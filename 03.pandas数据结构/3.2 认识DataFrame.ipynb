{
 "cells": [
  {
   "attachments": {},
   "cell_type": "markdown",
   "id": "54b5f61a-a571-4c08-8f22-9ff7b072cd79",
   "metadata": {},
   "source": [
    "## 3.2 认识DataFrame"
   ]
  },
  {
   "cell_type": "markdown",
   "id": "f6e82deb-58fa-44fd-afd5-b05bad15d6c4",
   "metadata": {},
   "source": [
    "DataFrame是一个表格型的数据结构  \r",
    "- 每列可以是不同的值类型（数值、字符串、布尔值等）  \r",
    "- 既有行索引index，也有列索引columns  \r",
    "- 可以被看做由Series组成的字典\n",
    "  \r",
    "创建DataFrame最常用的方法，参考读取CSV、TXT、Excel、MySQL等"
   ]
  },
  {
   "cell_type": "code",
   "execution_count": 1,
   "id": "2dfe20ae-b9b3-4376-90e0-6c3e384044af",
   "metadata": {},
   "outputs": [
    {
     "name": "stdout",
     "output_type": "stream",
     "text": [
      "   a  b  c\n",
      "0  1  2  3\n",
      "1  4  5  6\n",
      "2  7  8  9\n",
      "1\n",
      "1\n",
      "1\n",
      "   a  b\n",
      "0  1  2\n",
      "1  4  5\n",
      "2  7  8\n"
     ]
    }
   ],
   "source": [
    "import pandas as pd\n",
    "data = pd.DataFrame([[1, 2, 3], [4, 5, 6], [7, 8, 9]], columns=['a', 'b', 'c'])\n",
    "print(data)\n",
    "print(data['a'][0])\n",
    "print(data.loc[0]['a'])\n",
    "print(data.iloc[0][0] )\n",
    "print(data[['a','b']])"
   ]
  },
  {
   "cell_type": "code",
   "execution_count": null,
   "id": "0ffd93e0-d43f-4667-a42f-884188fde47b",
   "metadata": {},
   "outputs": [],
   "source": []
  }
 ],
 "metadata": {
  "kernelspec": {
   "display_name": "Python 3 (ipykernel)",
   "language": "python",
   "name": "python3"
  },
  "language_info": {
   "codemirror_mode": {
    "name": "ipython",
    "version": 3
   },
   "file_extension": ".py",
   "mimetype": "text/x-python",
   "name": "python",
   "nbconvert_exporter": "python",
   "pygments_lexer": "ipython3",
   "version": "3.9.17"
  },
  "widgets": {
   "application/vnd.jupyter.widget-state+json": {
    "state": {},
    "version_major": 2,
    "version_minor": 0
   }
  }
 },
 "nbformat": 4,
 "nbformat_minor": 5
}
