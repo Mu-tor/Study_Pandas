{
 "cells": [
  {
   "attachments": {},
   "cell_type": "markdown",
   "id": "830b5f3e-a479-4f94-a0a9-e7ed4ed5def6",
   "metadata": {},
   "source": [
    "## 3.1 Series 一维数据，一行或一列"
   ]
  },
  {
   "cell_type": "markdown",
   "id": "709fcb50-f11a-4c4a-b330-b0845c4a138a",
   "metadata": {},
   "source": [
    "DataFrame:二维数据，整个表格，多行多列【简称df】  \n",
    "df.index:索引  \r",
    "df.columns:列名  \r",
    "Series：一维数据，一行或一列"
   ]
  },
  {
   "attachments": {},
   "cell_type": "markdown",
   "id": "55d0b58e-8ab4-4a85-83e0-5a5e93dcb6c5",
   "metadata": {},
   "source": [
    "**Series是一种类似于一维数组的对象，它由一组数据（不同数据类型）以及一组与之相关的数据标签（即索引）组成。**"
   ]
  },
  {
   "attachments": {},
   "cell_type": "markdown",
   "id": "470c2de0-f79c-439f-8291-dcc6bdb53bfd",
   "metadata": {},
   "source": [
    "### 3.1.1 仅有数据列表即可产生最简单的Series\r\n"
   ]
  },
  {
   "cell_type": "code",
   "execution_count": 1,
   "id": "0b6eb762-f3c2-45d3-9d25-c8db7d28666b",
   "metadata": {},
   "outputs": [
    {
     "name": "stdout",
     "output_type": "stream",
     "text": [
      "0           520\n",
      "1        pandas\n",
      "2          1314\n",
      "3    2023-10-07\n",
      "dtype: object\n",
      "RangeIndex(start=0, stop=4, step=1)\n",
      "[520 'pandas' 1314 '2023-10-07']\n"
     ]
    }
   ],
   "source": [
    "import pandas as pd\n",
    "data= pd.Series([520,'pandas',1314,'2023-10-07'])  # 左侧是索引，右侧是数据\n",
    "print(data)\n",
    "print(data.index)  # 获取索引，返回索引的（起始值，结束值，步长）\n",
    "print(data.values)  # 获取数据，返回值序列，打印元素值的列表"
   ]
  },
  {
   "attachments": {},
   "cell_type": "markdown",
   "id": "1c97a510-1fc0-4d63-812f-a7b0ceb45ea4",
   "metadata": {},
   "source": [
    "### 3.1.2 我们指定Series的索引"
   ]
  },
  {
   "cell_type": "code",
   "execution_count": 2,
   "id": "9d6c62c9-0e04-41fb-aa88-9d7163d4540e",
   "metadata": {},
   "outputs": [
    {
     "name": "stdout",
     "output_type": "stream",
     "text": [
      "a           520\n",
      "b        pandas\n",
      "c          1314\n",
      "d    2023-10-07\n",
      "dtype: object\n",
      "Index(['a', 'b', 'c', 'd'], dtype='object')\n"
     ]
    }
   ],
   "source": [
    "import pandas as pd\n",
    "data= pd.Series([520,'pandas',1314,'2023-10-07'],index=['a', 'b', 'c', 'd'])  # 左侧是索引，右侧是数据\n",
    "print(data)\n",
    "print(data.index)  # 返回指定的索引"
   ]
  },
  {
   "cell_type": "markdown",
   "id": "8cbb00b0-3782-487e-af90-cfeb3e4f1879",
   "metadata": {},
   "source": [
    "### 3.1.3使用Python字典创建Series"
   ]
  },
  {
   "cell_type": "code",
   "execution_count": 3,
   "id": "e5bf6690-231b-412a-9e36-842de14eb922",
   "metadata": {},
   "outputs": [
    {
     "name": "stdout",
     "output_type": "stream",
     "text": [
      "姓名    pandas\n",
      "性别         男\n",
      "年龄        20\n",
      "地址      阿马利卡\n",
      "dtype: object\n",
      "Index(['姓名', '性别', '年龄', '地址'], dtype='object')\n"
     ]
    }
   ],
   "source": [
    "import pandas as pd\n",
    "dict = {'姓名':'pandas','性别':'男','年龄':20,'地址':'阿马利卡'}\n",
    "data = pd.Series(dict)\n",
    "print(data)\n",
    "print(data.index)"
   ]
  },
  {
   "attachments": {},
   "cell_type": "markdown",
   "id": "a6b7b580-6a82-4825-91ec-3a31a497a594",
   "metadata": {},
   "source": [
    "### 3.1.4 根据标签索引查询数据"
   ]
  },
  {
   "cell_type": "code",
   "execution_count": 4,
   "id": "1addefba-bc64-4e10-ac61-3ddaf1883dfb",
   "metadata": {},
   "outputs": [
    {
     "name": "stdout",
     "output_type": "stream",
     "text": [
      "姓名    pandas\n",
      "性别         男\n",
      "年龄        20\n",
      "地址      阿马利卡\n",
      "dtype: object\n",
      "pandas\n",
      "姓名    pandas\n",
      "年龄        20\n",
      "dtype: object\n"
     ]
    },
    {
     "data": {
      "text/plain": [
       "pandas.core.series.Series"
      ]
     },
     "execution_count": 4,
     "metadata": {},
     "output_type": "execute_result"
    }
   ],
   "source": [
    "print(data)  # 查询整个字典\n",
    "print(data['姓名']) # 通过key查看对应的值\n",
    "type(data['性别'])  # 通过key查看对应值的类型\n",
    "print(data[['姓名', '年龄']]) # 通过多个key查看对应的值\n",
    "type(data[['姓名', '年龄']]) # 注意：他不返回值的类型，而返回Series"
   ]
  },
  {
   "cell_type": "markdown",
   "id": "e427f678-adc9-4254-b7ae-e3171bc0cb39",
   "metadata": {},
   "source": [
    "### 3.1.5键和值存在两个列表中，创建Series"
   ]
  },
  {
   "cell_type": "code",
   "execution_count": 5,
   "id": "864a4dc2-f08e-4b25-93c9-657beeff7b3f",
   "metadata": {},
   "outputs": [
    {
     "name": "stdout",
     "output_type": "stream",
     "text": [
      "姓名    孙兴华\n",
      "性别      男\n",
      "年龄     20\n",
      "dtype: object\n"
     ]
    }
   ],
   "source": [
    "import pandas as pd\n",
    "col1 = ['姓名','性别','年龄']\n",
    "col2 = ['孙兴华','男',20]\n",
    "data = pd.Series(col2,index=col1) # 指定谁是索引\n",
    "print(data)"
   ]
  },
  {
   "attachments": {},
   "cell_type": "markdown",
   "id": "37402d9f-bfe0-41e0-90ab-1655b0ac95cc",
   "metadata": {},
   "source": [
    "**Series只是一个序列，可能是一行，也可能是一列，现在无法确定  \r\n",
    "用行的方法，把Series加入DataFrame，就是行，反之就是列**。"
   ]
  },
  {
   "attachments": {},
   "cell_type": "markdown",
   "id": "ee34c3e3-f724-4d16-ab44-f872685006b8",
   "metadata": {},
   "source": [
    "### 3.1.6 Series常用方法"
   ]
  },
  {
   "cell_type": "code",
   "execution_count": 6,
   "id": "4157688a-50fc-4c8e-8caa-e19aa7360a6a",
   "metadata": {},
   "outputs": [
    {
     "name": "stdout",
     "output_type": "stream",
     "text": [
      "Index(['姓名', '性别', '年龄'], dtype='object')\n"
     ]
    }
   ],
   "source": [
    "print(data.index) #查看索引"
   ]
  },
  {
   "cell_type": "code",
   "execution_count": 7,
   "id": "b5a6359b-f54f-4f82-b227-aece32aa097f",
   "metadata": {},
   "outputs": [
    {
     "name": "stdout",
     "output_type": "stream",
     "text": [
      "['孙兴华' '男' 20]\n"
     ]
    }
   ],
   "source": [
    "print(data.values) #查看数值"
   ]
  },
  {
   "cell_type": "code",
   "execution_count": 8,
   "id": "377d1b71-3c39-46df-bfb7-06a46ab0f3ba",
   "metadata": {},
   "outputs": [
    {
     "name": "stdout",
     "output_type": "stream",
     "text": [
      "姓名    False\n",
      "性别    False\n",
      "年龄    False\n",
      "dtype: bool\n"
     ]
    }
   ],
   "source": [
    "print(data.isnull()) #查看为空的，返回布尔型"
   ]
  },
  {
   "cell_type": "code",
   "execution_count": 9,
   "id": "e57d72b6-44bd-4611-a8b3-6af499d38252",
   "metadata": {},
   "outputs": [
    {
     "name": "stdout",
     "output_type": "stream",
     "text": [
      "姓名    True\n",
      "性别    True\n",
      "年龄    True\n",
      "dtype: bool\n"
     ]
    }
   ],
   "source": [
    "print(data.notnull()) "
   ]
  },
  {
   "cell_type": "code",
   "execution_count": 10,
   "id": "4091521d-7c38-4231-a88d-33c74d22bb84",
   "metadata": {},
   "outputs": [
    {
     "name": "stdout",
     "output_type": "stream",
     "text": [
      "姓名    孙兴华\n",
      "年龄     20\n",
      "性别      男\n",
      "dtype: object\n"
     ]
    }
   ],
   "source": [
    "print(data.sort_index()) #按索引排序"
   ]
  },
  {
   "cell_type": "code",
   "execution_count": 11,
   "id": "86ad8e4c-ca0a-4e7d-9bb0-12c59358c468",
   "metadata": {},
   "outputs": [],
   "source": [
    "# data.sort_values() #按数值排序"
   ]
  },
  {
   "cell_type": "code",
   "execution_count": null,
   "id": "cdc2f748-c73b-430a-99cc-7361465835a8",
   "metadata": {},
   "outputs": [],
   "source": []
  }
 ],
 "metadata": {
  "kernelspec": {
   "display_name": "Python 3 (ipykernel)",
   "language": "python",
   "name": "python3"
  },
  "language_info": {
   "codemirror_mode": {
    "name": "ipython",
    "version": 3
   },
   "file_extension": ".py",
   "mimetype": "text/x-python",
   "name": "python",
   "nbconvert_exporter": "python",
   "pygments_lexer": "ipython3",
   "version": "3.9.17"
  },
  "widgets": {
   "application/vnd.jupyter.widget-state+json": {
    "state": {},
    "version_major": 2,
    "version_minor": 0
   }
  }
 },
 "nbformat": 4,
 "nbformat_minor": 5
}
