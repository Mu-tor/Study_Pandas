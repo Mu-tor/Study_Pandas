{
 "cells": [
  {
   "attachments": {},
   "cell_type": "markdown",
   "id": "f5b34cd6",
   "metadata": {},
   "source": [
    "# 01.数据类型与新建文件"
   ]
  },
  {
   "attachments": {},
   "cell_type": "markdown",
   "id": "7672593f",
   "metadata": {},
   "source": [
    "|数据类型|\t说明\t|新建方法|\n",
    "|--------|--------|--------|\n",
    "|csv、tsv、txt\t|用逗号分隔、tab分割的纯文本文件|\tpd.to_csv|\n",
    "|excel\t|xls或xlsx\t|pd.to_excel|\n",
    "|mysql\t|关系数据库表|\tpd.to_sql|"
   ]
  },
  {
   "cell_type": "code",
   "execution_count": 4,
   "id": "4115d9a8",
   "metadata": {},
   "outputs": [
    {
     "name": "stdout",
     "output_type": "stream",
     "text": [
      "新建newFile.xlsx成功\n"
     ]
    }
   ],
   "source": [
    "# 一、新建空白Excel文件\n",
    "import pandas as pd                                 \n",
    "path = './pandas/newFile.xlsx'                    \n",
    "data=pd.DataFrame( )         \n",
    "data.to_excel(path)            \n",
    "print('新建newFile.xlsx成功')     "
   ]
  },
  {
   "cell_type": "code",
   "execution_count": 5,
   "id": "caf6b9ec",
   "metadata": {},
   "outputs": [
    {
     "name": "stdout",
     "output_type": "stream",
     "text": [
      "newFile.xlsx成功\n"
     ]
    }
   ],
   "source": [
    "# 二、新建文件同时写入数据\n",
    "import pandas as pd\n",
    "path = './pandas/newFile.xlsx'\n",
    "data=pd.DataFrame({'id':[1,2,3],'姓名':['叶问','李小龙','孙兴华']})\n",
    "data.to_excel(path)\n",
    "print('newFile.xlsx成功')\n"
   ]
  },
  {
   "cell_type": "code",
   "execution_count": 6,
   "id": "7fd779ba",
   "metadata": {},
   "outputs": [
    {
     "name": "stdout",
     "output_type": "stream",
     "text": [
      "     姓名\n",
      "id     \n",
      "1    叶问\n",
      "2   李小龙\n",
      "3   孙兴华\n"
     ]
    }
   ],
   "source": [
    "# 三、将id设置为索引\n",
    "import pandas as pd\n",
    "path = './pandas/newFile.xlsx'\n",
    "data=pd.DataFrame({'id':[1,2,3],'姓名':['叶问','李小龙','孙兴华']}) # 写入的数据\n",
    "data=data.set_index('id')  # 将id设置为索引\n",
    "data.to_excel(path)    # 将数据写入Excel文件\n",
    "print(data)"
   ]
  },
  {
   "cell_type": "code",
   "execution_count": null,
   "id": "a5d2dac5",
   "metadata": {},
   "outputs": [],
   "source": []
  }
 ],
 "metadata": {
  "kernelspec": {
   "display_name": "Python 3 (ipykernel)",
   "language": "python",
   "name": "python3"
  },
  "language_info": {
   "codemirror_mode": {
    "name": "ipython",
    "version": 3
   },
   "file_extension": ".py",
   "mimetype": "text/x-python",
   "name": "python",
   "nbconvert_exporter": "python",
   "pygments_lexer": "ipython3",
   "version": "3.9.17"
  }
 },
 "nbformat": 4,
 "nbformat_minor": 5
}
