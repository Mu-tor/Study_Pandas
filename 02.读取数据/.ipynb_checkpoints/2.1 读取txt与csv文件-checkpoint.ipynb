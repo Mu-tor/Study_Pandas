{
 "cells": [
  {
   "attachments": {},
   "cell_type": "markdown",
   "id": "572746e6",
   "metadata": {},
   "source": [
    "## 2.1 读取txt与csv文件"
   ]
  },
  {
   "attachments": {},
   "cell_type": "markdown",
   "id": "3afdadb2",
   "metadata": {},
   "source": [
    "|数据类型|\t说明\t|新建方法|\n",
    "|--------|--------|--------|\n",
    "|csv、tsv、txt\t|默认逗号分隔|\tpd.read_csv|\n",
    "|csv、tsv、txt\t|默认\\t分割  |   pd.read_table|\n",
    "\n",
    "体验两种方法的区别，与sep指定分隔符\n",
    "\n",
    "切记：如果分隔符不止一种，使用正则表达式sep='\\s+'"
   ]
  },
  {
   "attachments": {},
   "cell_type": "markdown",
   "id": "c5236db4",
   "metadata": {},
   "source": [
    "### 2.1.1 读取CSV文件"
   ]
  },
  {
   "cell_type": "code",
   "execution_count": 1,
   "id": "5b7e4a0d",
   "metadata": {},
   "outputs": [
    {
     "name": "stdout",
     "output_type": "stream",
     "text": [
      "   Unnamed: 0  男   杨过  19  13901234567  终南山古墓  2000/1/1\n",
      "0           0  女  小龙女  25  13801111111  终南山古墓  2000/1/2\n",
      "1           1  男   郭靖  40  13705555555   湖北襄阳  2020/1/1\n",
      "2           2  女   黄蓉  35  13601111111   湖北襄阳  2000/1/4\n",
      "3           3  男  张无忌  18  13506666666     明教  2000/1/5\n",
      "4           4  女  周芷若  17  13311111111     明教  2000/1/6\n",
      "5           5  女   赵敏  17  18800000000     明教  2000/1/7\n"
     ]
    }
   ],
   "source": [
    "# 一、读取数据\n",
    "import pandas as pd           \n",
    "path = './pandas/读取文件.csv'     \n",
    "data = pd.read_csv(path)        \n",
    "print(data)  "
   ]
  },
  {
   "cell_type": "code",
   "execution_count": 2,
   "id": "0ce481af",
   "metadata": {},
   "outputs": [
    {
     "name": "stdout",
     "output_type": "stream",
     "text": [
      "   Unnamed: 0  男   杨过  19  13901234567  终南山古墓  2000/1/1\n",
      "0           0  女  小龙女  25  13801111111  终南山古墓  2000/1/2\n",
      "1           1  男   郭靖  40  13705555555   湖北襄阳  2020/1/1\n",
      "2           2  女   黄蓉  35  13601111111   湖北襄阳  2000/1/4\n"
     ]
    }
   ],
   "source": [
    "# 二、查看前几行数据\n",
    "print(data.head(3))     # 默认是5行，指定行数写小括号里"
   ]
  },
  {
   "cell_type": "code",
   "execution_count": 3,
   "id": "cc63251b",
   "metadata": {},
   "outputs": [
    {
     "name": "stdout",
     "output_type": "stream",
     "text": [
      "(6, 7)\n"
     ]
    }
   ],
   "source": [
    "# 三、查看数据的形状，返回（行数、列数）\n",
    "print(data.shape)"
   ]
  },
  {
   "cell_type": "code",
   "execution_count": 4,
   "id": "1657c283",
   "metadata": {},
   "outputs": [
    {
     "name": "stdout",
     "output_type": "stream",
     "text": [
      "Index(['Unnamed: 0', '男', '杨过', '19', '13901234567', '终南山古墓', '2000/1/1'], dtype='object')\n"
     ]
    }
   ],
   "source": [
    "# 四、 查看列名列表\n",
    "print(data.columns)"
   ]
  },
  {
   "cell_type": "code",
   "execution_count": 5,
   "id": "e12c30ed",
   "metadata": {},
   "outputs": [
    {
     "name": "stdout",
     "output_type": "stream",
     "text": [
      "RangeIndex(start=0, stop=6, step=1)\n"
     ]
    }
   ],
   "source": [
    "# 五、查看索引列\n",
    "print(data.index)"
   ]
  },
  {
   "cell_type": "code",
   "execution_count": 6,
   "id": "c8ed701b",
   "metadata": {},
   "outputs": [
    {
     "name": "stdout",
     "output_type": "stream",
     "text": [
      "Unnamed: 0      int64\n",
      "男              object\n",
      "杨过             object\n",
      "19              int64\n",
      "13901234567     int64\n",
      "终南山古墓          object\n",
      "2000/1/1       object\n",
      "dtype: object\n"
     ]
    }
   ],
   "source": [
    "# 六、查看每一列数据类型\n",
    "print(data.dtypes)"
   ]
  },
  {
   "attachments": {},
   "cell_type": "markdown",
   "id": "2245f8eb",
   "metadata": {},
   "source": [
    "### 2.1.2 【自己制定分隔符、列名】"
   ]
  },
  {
   "cell_type": "code",
   "execution_count": 10,
   "id": "e91a8c3d",
   "metadata": {},
   "outputs": [
    {
     "name": "stdout",
     "output_type": "stream",
     "text": [
      "           id 性别   姓名  年龄           电话     地址\n",
      "入职日期                                         \n",
      "2000/1/1  NaN  男   杨过  19  13901234567  终南山古墓\n",
      "2000/1/2  0.0  女  小龙女  25  13801111111  终南山古墓\n",
      "2020/1/1  1.0  男   郭靖  40  13705555555   湖北襄阳\n",
      "2000/1/4  2.0  女   黄蓉  35  13601111111   湖北襄阳\n",
      "2000/1/5  3.0  男  张无忌  18  13506666666     明教\n",
      "2000/1/6  4.0  女  周芷若  17  13311111111     明教\n",
      "2000/1/7  5.0  女   赵敏  17  18800000000     明教\n"
     ]
    }
   ],
   "source": [
    "import pandas as pd\n",
    "path = './pandas/读取文件.csv'\n",
    "data = pd.read_csv(path,sep=',',header=None,names=['id','性别','姓名','年龄','电话','地址','入职日期'],encoding='utf-8',index_col='入职日期')\n",
    "print(data)\n",
    "\n",
    "\n",
    "# 英文逗号或\"\\t\",从文件、url、文件型对象中加载带分隔符的数据，默认为'\\t'。（read_csv默认分隔符是逗号）,可以通过制定sep 参数来修改默认分隔符\n",
    "\n",
    "# 读取没有标题的文件时，默认为第一行作为列标题,设置header=None,意思就是没有表头，后面你自己写表头\n",
    "\n",
    "# 注意：你的txt文档必需另存为utf-8编码，如果是ASCII报错\n"
   ]
  },
  {
   "attachments": {},
   "cell_type": "markdown",
   "id": "e8a3b200",
   "metadata": {},
   "source": [
    "### 2.1.3 txt文件转csv文件"
   ]
  },
  {
   "cell_type": "code",
   "execution_count": 11,
   "id": "d5817566",
   "metadata": {},
   "outputs": [
    {
     "name": "stdout",
     "output_type": "stream",
     "text": [
      "   男   杨过  19  13901234567  终南山古墓  2000/1/1\n",
      "0  女  小龙女  25  13801111111  终南山古墓  2000/1/2\n",
      "1  男   郭靖  40  13705555555   湖北襄阳  2020/1/1\n",
      "2  女   黄蓉  35  13601111111   湖北襄阳  2000/1/4\n",
      "3  男  张无忌  18  13506666666     明教  2000/1/5\n",
      "4  女  周芷若  17  13311111111     明教  2000/1/6\n",
      "5  女   赵敏  17  18800000000     明教  2000/1/7\n"
     ]
    }
   ],
   "source": [
    "import pandas as pd\n",
    "data = pd.read_csv('./pandas/读取文件.txt')\n",
    "data.to_csv('./pandas/读取文件.csv')\n",
    "print(data)"
   ]
  },
  {
   "cell_type": "code",
   "execution_count": null,
   "id": "3df9c672",
   "metadata": {},
   "outputs": [],
   "source": []
  }
 ],
 "metadata": {
  "kernelspec": {
   "display_name": "Python 3 (ipykernel)",
   "language": "python",
   "name": "python3"
  },
  "language_info": {
   "codemirror_mode": {
    "name": "ipython",
    "version": 3
   },
   "file_extension": ".py",
   "mimetype": "text/x-python",
   "name": "python",
   "nbconvert_exporter": "python",
   "pygments_lexer": "ipython3",
   "version": "3.9.17"
  }
 },
 "nbformat": 4,
 "nbformat_minor": 5
}
