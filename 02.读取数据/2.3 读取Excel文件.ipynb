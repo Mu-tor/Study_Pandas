{
 "cells": [
  {
   "attachments": {},
   "cell_type": "markdown",
   "id": "d5db293c-a679-4400-a71d-1105f162536d",
   "metadata": {},
   "source": [
    "## 2.3 读取Excel文件"
   ]
  },
  {
   "attachments": {},
   "cell_type": "markdown",
   "id": "de3e6979-6763-48df-8138-b88e28045758",
   "metadata": {},
   "source": [
    "### 一、读取文件"
   ]
  },
  {
   "cell_type": "code",
   "execution_count": 68,
   "id": "5cdf5d85-e192-4b1c-bd7f-69e17dae12bc",
   "metadata": {},
   "outputs": [
    {
     "name": "stdout",
     "output_type": "stream",
     "text": [
      "   1   杨过  19  13901234567  终南山古墓 2000-01-01 00:00:00\n",
      "0  2  小龙女  25  13801111111  终南山古墓          2000-01-02\n",
      "1  3   郭靖  40  13705555555   湖北襄阳          2000-01-03\n",
      "2  4   黄蓉  35  13601111111   湖北襄阳          2000-01-04\n",
      "3  5  张无忌  18  13506666666     明教          2000-01-05\n",
      "4  6  周芷若  17  13311111111     明教          2000-01-06\n",
      "5  7   赵敏  17  18800000000     明教          2000-01-07\n"
     ]
    }
   ],
   "source": [
    "import pandas as pd\n",
    "path = './Pandas/读取文件.xlsx'\n",
    "data = pd.read_excel(path)\n",
    "print(data)\n",
    "# data.to_excel(path)"
   ]
  },
  {
   "attachments": {},
   "cell_type": "markdown",
   "id": "860a32ea-61bc-45cb-956b-9ccc186ae0b9",
   "metadata": {},
   "source": [
    "### 二、查看前几行数据\n"
   ]
  },
  {
   "cell_type": "code",
   "execution_count": 36,
   "id": "4c2086c0-c554-4f10-a7a8-ba60d7f213f9",
   "metadata": {},
   "outputs": [
    {
     "name": "stdout",
     "output_type": "stream",
     "text": [
      "   序号   姓名  年龄           电话     地址       入职日期\n",
      "0   1   杨过  19  13901234567  终南山古墓 2000-01-01\n",
      "1   2  小龙女  25  13801111111  终南山古墓 2000-01-02\n",
      "2   3   郭靖  40  13705555555   湖北襄阳 2000-01-03\n",
      "3   4   黄蓉  35  13601111111   湖北襄阳 2000-01-04\n",
      "4   5  张无忌  18  13506666666     明教 2000-01-05\n"
     ]
    }
   ],
   "source": [
    "print(data.head()) # 默认5行，指定行数写小括号"
   ]
  },
  {
   "cell_type": "markdown",
   "id": "08c2278f-4f27-4c5e-b7cc-4d2c519ceb97",
   "metadata": {},
   "source": [
    "### 三、查看数据的形状"
   ]
  },
  {
   "cell_type": "code",
   "execution_count": 35,
   "id": "6535c0a4-9e32-4245-a1ea-61ceb5314439",
   "metadata": {},
   "outputs": [
    {
     "name": "stdout",
     "output_type": "stream",
     "text": [
      "(7, 6)\n"
     ]
    }
   ],
   "source": [
    "print(data.shape)"
   ]
  },
  {
   "cell_type": "markdown",
   "id": "4fd15e44-30a6-445b-956e-5e4cff7c5e3d",
   "metadata": {},
   "source": [
    "### 四、查看列名列表"
   ]
  },
  {
   "cell_type": "code",
   "execution_count": 38,
   "id": "2bbce0aa-eb80-4f3f-bce5-8bd54f56ad99",
   "metadata": {},
   "outputs": [
    {
     "name": "stdout",
     "output_type": "stream",
     "text": [
      "Index(['序号', '姓名', '年龄', '电话', '地址', '入职日期'], dtype='object')\n"
     ]
    }
   ],
   "source": [
    "print(data.columns)"
   ]
  },
  {
   "cell_type": "markdown",
   "id": "1e96b4dd-bf9f-4b05-a314-1aca7f01be9b",
   "metadata": {},
   "source": [
    "### 五、查看索引列"
   ]
  },
  {
   "cell_type": "code",
   "execution_count": 41,
   "id": "9655046f-e427-4477-82b6-1b4ae4a03ff8",
   "metadata": {},
   "outputs": [
    {
     "name": "stdout",
     "output_type": "stream",
     "text": [
      "Int64Index([1, 2, 3, 4, 5, 6, 7], dtype='int64', name='序号')\n"
     ]
    }
   ],
   "source": [
    "print(data.index)"
   ]
  },
  {
   "cell_type": "markdown",
   "id": "9fd8b0fe-aec2-4885-b8fb-ca61fd7c8b28",
   "metadata": {},
   "source": [
    "### 六、查看每一列数据类型"
   ]
  },
  {
   "cell_type": "code",
   "execution_count": 42,
   "id": "cb979cf6-28d2-4ce7-86ee-4c4ff253ff58",
   "metadata": {},
   "outputs": [
    {
     "name": "stdout",
     "output_type": "stream",
     "text": [
      "姓名              object\n",
      "年龄               int64\n",
      "电话               int64\n",
      "地址              object\n",
      "入职日期    datetime64[ns]\n",
      "dtype: object\n"
     ]
    }
   ],
   "source": [
    "print(data.dtypes)"
   ]
  },
  {
   "cell_type": "markdown",
   "id": "533a22f0-d616-43c1-9799-ae9163e458de",
   "metadata": {},
   "source": [
    "### 七、自己设置并写入表头"
   ]
  },
  {
   "cell_type": "code",
   "execution_count": 50,
   "id": "13bbc4a5-e3ba-47c8-bfc6-d5c830df28ae",
   "metadata": {},
   "outputs": [
    {
     "name": "stdout",
     "output_type": "stream",
     "text": [
      "Index(['姓名', '年龄', '电话', '地址', '入职日期'], dtype='object')\n",
      "     姓名  年龄           电话     地址       入职日期\n",
      "序号                                        \n",
      "1    杨过  19  13901234567  终南山古墓 2000-01-01\n",
      "2   小龙女  25  13801111111  终南山古墓 2000-01-02\n",
      "3    郭靖  40  13705555555   湖北襄阳 2000-01-03\n",
      "4    黄蓉  35  13601111111   湖北襄阳 2000-01-04\n",
      "5   张无忌  18  13506666666     明教 2000-01-05\n",
      "6   周芷若  17  13311111111     明教 2000-01-06\n",
      "7    赵敏  17  18800000000     明教 2000-01-07\n"
     ]
    }
   ],
   "source": [
    "import pandas as pd\n",
    "path = './Pandas/读取文件.xlsx'\n",
    "data = pd.read_excel(path,header=None)\n",
    "data.columns=['序号','姓名','年龄','电话','地址','入职日期']  # 给每个列重复设置表头\n",
    "data=data.set_index('序号')          # 重新指定索引列\n",
    "print(data.columns)          # 查看列名列表\n",
    "print(data)\n",
    "data.to_excel(path)          # 写入到Excel文件"
   ]
  },
  {
   "cell_type": "markdown",
   "id": "08998147-9ce8-4516-bc61-2ecffcfcbfd9",
   "metadata": {},
   "source": [
    "### 八、修改表头"
   ]
  },
  {
   "cell_type": "code",
   "execution_count": 63,
   "id": "b6d67021-62c1-432a-a847-e67600235d0a",
   "metadata": {},
   "outputs": [
    {
     "name": "stdout",
     "output_type": "stream",
     "text": [
      "Index(['序号', '年龄', '电话', '地址', '入职日期'], dtype='object')\n",
      "     序号  年龄           电话     地址       入职日期\n",
      "姓名                                        \n",
      "杨过    1  19  13901234567  终南山古墓 2000-01-01\n",
      "小龙女   2  25  13801111111  终南山古墓 2000-01-02\n",
      "郭靖    3  40  13705555555   湖北襄阳 2000-01-03\n",
      "黄蓉    4  35  13601111111   湖北襄阳 2000-01-04\n",
      "张无忌   5  18  13506666666     明教 2000-01-05\n",
      "周芷若   6  17  13311111111     明教 2000-01-06\n",
      "赵敏    7  17  18800000000     明教 2000-01-07\n"
     ]
    }
   ],
   "source": [
    "import pandas as pd\n",
    "path = './Pandas/读取文件.xlsx'\n",
    "data = pd.read_excel(path, header=0)\n",
    "data.columns=['序号','姓名','年龄','电话','地址','入职日期']  # 给每个列重复设置表头\n",
    "data=data.set_index('姓名')          # 替换index\n",
    "print(data.columns)\n",
    "print(data)"
   ]
  },
  {
   "cell_type": "code",
   "execution_count": null,
   "id": "fe28f988-497e-4e96-ad1c-c12b6fb6528f",
   "metadata": {},
   "outputs": [],
   "source": []
  }
 ],
 "metadata": {
  "kernelspec": {
   "display_name": "Python 3 (ipykernel)",
   "language": "python",
   "name": "python3"
  },
  "language_info": {
   "codemirror_mode": {
    "name": "ipython",
    "version": 3
   },
   "file_extension": ".py",
   "mimetype": "text/x-python",
   "name": "python",
   "nbconvert_exporter": "python",
   "pygments_lexer": "ipython3",
   "version": "3.9.17"
  },
  "widgets": {
   "application/vnd.jupyter.widget-state+json": {
    "state": {},
    "version_major": 2,
    "version_minor": 0
   }
  }
 },
 "nbformat": 4,
 "nbformat_minor": 5
}
