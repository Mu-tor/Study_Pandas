{
 "cells": [
  {
   "attachments": {},
   "cell_type": "markdown",
   "id": "963cc70e-93bc-4fb9-ae61-e2c3fc7b633a",
   "metadata": {},
   "source": [
    "## 2.2 读取MySQL数据库"
   ]
  },
  {
   "cell_type": "code",
   "execution_count": 5,
   "id": "c59f65b9-a852-4281-9759-86c1da04447b",
   "metadata": {},
   "outputs": [
    {
     "name": "stdout",
     "output_type": "stream",
     "text": [
      "   id name\n",
      "0   1   张三\n",
      "1   2   李四\n",
      "2   3   王五\n",
      "3   4   赵六\n"
     ]
    }
   ],
   "source": [
    "import pandas as pd\n",
    "import pymysql\n",
    "con = pymysql.connect(host = 'localhost',user = 'root',password = 'root',database = 'test',charset = 'utf8')\n",
    "data = pd.read_sql(\"select * from student\",con=con)  # 第1个参数是SQL查询语句，第2参数是数据库连接\n",
    "print(data)"
   ]
  },
  {
   "cell_type": "code",
   "execution_count": null,
   "id": "d76266c3-e6f4-45ae-8e53-3ef031a4f8f9",
   "metadata": {},
   "outputs": [],
   "source": []
  }
 ],
 "metadata": {
  "kernelspec": {
   "display_name": "Python 3 (ipykernel)",
   "language": "python",
   "name": "python3"
  },
  "language_info": {
   "codemirror_mode": {
    "name": "ipython",
    "version": 3
   },
   "file_extension": ".py",
   "mimetype": "text/x-python",
   "name": "python",
   "nbconvert_exporter": "python",
   "pygments_lexer": "ipython3",
   "version": "3.9.17"
  }
 },
 "nbformat": 4,
 "nbformat_minor": 5
}
